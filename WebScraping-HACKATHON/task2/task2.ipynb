{
 "cells": [
  {
   "cell_type": "code",
   "execution_count": 150,
   "id": "4ba0e328",
   "metadata": {},
   "outputs": [],
   "source": [
    "from selenium import webdriver\n",
    "from selenium.webdriver.common.by import By\n",
    "import time\n",
    "import csv"
   ]
  },
  {
   "cell_type": "code",
   "execution_count": 151,
   "id": "621fab91",
   "metadata": {},
   "outputs": [],
   "source": [
    "# Setup Chrome WebDriver\n",
    "driver = webdriver.Chrome(executable_path=r\"E:\\adobe\\CDE\\chromedriver-win64\\chromedriver-win64\\chromedriver.exe\")\n",
    "driver.get('https://sarmaaya.pk/mutual-funds/')"
   ]
  },
  {
   "cell_type": "code",
   "execution_count": 152,
   "id": "55a4352e",
   "metadata": {},
   "outputs": [
    {
     "data": {
      "text/plain": [
       "['',\n",
       " '',\n",
       " 'Show\\n10\\n25\\n50\\n100\\nfunds',\n",
       " 'Search:',\n",
       " 'Fund Name RP PM TER MF SAM ReturnMTD ReturnYTD NAV Date AUM\\nMCB DCF Fixed Return III (Plan III) - - 0.41% 1.75% - 3188.69% 46.45% 130.418 2025-05-02 1,816,440,000\\nNBP Fixed Term Munafa Plan XIV( NBP Mustahkam Fund II) - - 0.89% 24.72% - 2837.51% 38.41% 11.541 2025-05-02 525,000,000\\nMCB DCF Fixed Return II (Plan V) - - 0.48% 1.73% - 953.76% 23.97% 111.231 2025-05-02 1,096,240,000\\nMeezan Paidaar Munafa Plan XII - - 1.1% 0.78% 0.18% 275.87% 38.02% 57.8691 2025-05-22 861,980,000\\nNBP Islamic Fixed Term Munafa Plan III - - 1% 0.96% - 255.02% 36.89% 11.5387 2025-05-23 3,087,000,000\\nAlhamra Wada Plan (Alhamra Wada Plan IX) - - 1.07% 71.12% 0.3% 245.73% 38.93% 100.226 2025-04-26 374,760,000\\nMCB Pakistan Fixed Return Plan 22 - - 0.64% 1.75% - 218.81% 31.8% 107.108 2025-05-15 1,683,120,000\\nAKD Aggressive Income Fund Medium Forward 2.78% 1.9% 0.2% 215.95% 31.97% 66.2746 2025-05-23 889,930,000\\nMCB Pakistan Fixed Return Plan 24 - - 0.37% 1.75% - 73.94% 23.86% 102.486 2025-05-15 4,889,230,000\\nJS Fixed Term Munafa Fund (JS Fixed Term Munafa Plan XI) - - 0.73% 0.2% 0.3% 35.9% 12.56% 106.984 2025-05-23 1,283,140,000\\nJS Fixed Term Munafa Fund (JS Fixed Term Munafa Plan I) - - 0.9% 0.2% 0.3% 35.23% 23.11% 122.367 2025-05-23 2,132,970,000\\nNBP Income Opportunity Fund - - 2% 1.41% 0.5% 35.01% 18.62% 12.685 2025-05-23 8,352,000,000\\nAlfalah GHP Pension Fund - Forward 1.58% 0.56% - 29.14% 18.72% 226.642 2025-05-23 132,060,000\\nLakson Income Fund Medium Forward 1.52% 1.5% 0.75% 28.37% 18.52% 118.854 2025-05-23 15,058,000,000\\nAL Habib Fixed Return Fund Plan 19 - - 0.43% 0.12% 0.1% 25.51% 15.1% 103.185 2025-05-22 68,420,000\\nAlfalah Stable Return Plan IV - - 0.6% 1.5% - 25.34% 21.7% 114.855 2025-05-23 3,189,100,000\\nJS Fixed Term Munafa Fund (JS Fixed Term Munafa Plan X) - - 0.67% 0.2% 0.3% 25.13% 14.64% 106.776 2025-05-23 15,289,800,000\\nFaysal Islamic Mustakil Munafa Fund (Faysal Islamic Mehdood Muddat Plan I) - - 0.32% 0.13% - 24.98% 18.07% 114.836 2025-05-23 3,205,360,000\\nUBL Government Securities Fund - - 1.48% 1% - 24.89% 19.39% 124.411 2025-05-22 11,969,800,000\\nAlfalah Government Securities Fund - II (Formerly: Faysal Government Securities Fund) - - 1.02% 0.76% 0.3% 24.86% 16.86% 145.01 2025-05-23 2,693,080,000\\nAlfalah Government Securities Fund Plan I - - 1.09% 0.5% 0.7% 24.73% 16.43% 109.898 2025-05-23 5,478,330,000\\nAl Ameen Islamic Sovereign Fund - - 1.26% 1% - 23.28% 14.91% 115.193 2025-05-22 8,729,190,000\\nAlfalah GHP Income Multiplier Fund Medium Forward 2.9% 1.74% 0.41% 22.73% 14.95% 61.6599 2025-05-23 1,114,610,000\\nUBL Special Savings Plan X - - 1.17% 1% - 22.71% 18.87% 117.419 2025-05-22 977,850,000\\nMCB DCF Fixed Return III (Plan IV) - - 0.5% 0.31% - 22.36% 15.29% 109.426 2025-05-23 539,990,000',\n",
       " 'Showing 1 to 25 of 506 funds',\n",
       " 'Previous\\n1\\n2\\n3\\n4\\n5\\n…\\n21\\nNext']"
      ]
     },
     "execution_count": 152,
     "metadata": {},
     "output_type": "execute_result"
    }
   ],
   "source": [
    "tables = driver.find_elements(By.CLASS_NAME,'col-sm-12')\n",
    "table_text = [table.text for table in tables]\n",
    "table_text"
   ]
  },
  {
   "cell_type": "code",
   "execution_count": 153,
   "id": "85c1d0a4",
   "metadata": {},
   "outputs": [
    {
     "name": "stdout",
     "output_type": "stream",
     "text": [
      "Stopped at iteration 1 due to error: Message: element click intercepted: Element <a href=\"#\" aria-controls=\"funds-table\" data-dt-idx=\"8\" tabindex=\"0\" class=\"page-link\">...</a> is not clickable at point (730, 30). Other element would receive the click: <div class=\"wsmobileheader clearfix\">...</div>\n",
      "  (Session info: chrome=136.0.7103.114)\n",
      "\n"
     ]
    }
   ],
   "source": [
    "# Scroll and click \"Load More\" button multiple times\n",
    "for i in range(10):\n",
    "    try:\n",
    "        driver.execute_script(\"window.scrollBy(0, 300);\")\n",
    "        time.sleep(1)\n",
    "        load_more = driver.find_element(By.XPATH, '/html/body/div/section[1]/div/div[2]/div[1]/div[4]/div[2]/div/div[3]/div[2]/div/ul/li[9]/a')\n",
    "        load_more.click()\n",
    "    except Exception as e:\n",
    "        print(f\"Stopped at iteration {i} due to error: {e}\")\n",
    "        break"
   ]
  },
  {
   "cell_type": "code",
   "execution_count": 154,
   "id": "2fcad65b",
   "metadata": {},
   "outputs": [
    {
     "data": {
      "text/plain": [
       "['Fund Name RP PM TER MF SAM ReturnMTD ReturnYTD NAV Date AUM',\n",
       " 'Alfalah Government Securities Fund Plan II - - 0.84% 0.82% 0.13% 22.12% 13.58% 103.816 2025-05-23 867,640,000',\n",
       " 'Alfalah GHP Islamic Pension Fund - Forward 1.4% 0.54% - 22.03% 18.21% 196.045 2025-05-23 171,430,000',\n",
       " 'Faysal Islamic Sovereign Fund (Faysal Islamic Sovereign Plan II) Low Forward 2.45% 2% 0.4% 21.99% 15.92% 112.106 2025-05-23 3,885,750,000',\n",
       " 'JS Fixed Term Munafa Fund (JS Fixed Term Munafa Plan XIV) - - 0.7% 0.2% 0.3% 21.86% 12.61% 103.005 2025-05-23 5,382,930,000',\n",
       " 'JS Fixed Term Munafa Fund (JS Fixed Term Munafa Plan XIII) - - 0.75% 0.2% 0.3% 21.72% 12.17% 104.269 2025-05-23 6,465,870,000',\n",
       " 'UBL Fixed Return Plan IV (P) - - 0.19% 0.14% - 21.58% 15.16% 102.7 2025-05-22 1,982,310,000',\n",
       " 'MCB Pakistan Sovereign Fund - - 2% 1.99% 0.3% 21.41% 18.83% 63.11 2025-05-23 29,620,700,000',\n",
       " 'Pakistan Income Enhancement Fund - - 2.06% 1.73% 0.3% 21.34% 17.96% 63.7737 2025-05-23 3,911,050,000',\n",
       " 'Faysal Islamic Special Income Plan I - - 1.11% 0.15% 0.01% 21.31% 13.97% 11.3495 2025-05-24 135,370,000',\n",
       " 'Alfalah GHP Sovereign Fund Medium Forward 2.87% 2% 0.62% 20.93% 17.24% 124.289 2025-05-23 10,307,300,000',\n",
       " 'MCB Government Securities Plan I - - 1.59% 1.5% - 20.44% 12.82% 106.916 2025-05-23 22,879,900,000',\n",
       " 'MCB DCF Fixed Return II (Plan I) - - 1.04% 1.75% - 20.35% 16.37% 110.39 2025-05-02 122,500,000',\n",
       " 'Pakistan Pension Fund - Forward 1.76% 1.3% - 20.24% 20.07% 590.08 2025-05-23 2,085,690,000',\n",
       " 'UBL Growth & Income Fund - - 1.95% 2% - 19.96% 36.16% 112.869 2025-05-22 2,875,510,000',\n",
       " 'Faysal Islamic Savings Growth Fund Medium Forward 2.4% 1.93% 2% 19.84% 15.79% 120.284 2025-05-23 2,459,020,000',\n",
       " 'Pak Qatar Islamic Pension Fund - - 2.27% 1.25% 0.5% 19.75% 15.97% 150.553 2025-05-23 27,750,000',\n",
       " 'Alfalah Stable Return Fund Plan XX - - 1% 0.7% - 19.65% 19.65% 100.431 2025-05-23 -',\n",
       " 'Alfalah Islamic Sovereign Fund (Alfalah Islamic Sovereign Plan II) Medium Forward 2.66% 0.97% 0.43% 19.17% 15.53% 122.419 2025-05-23 2,944,230,000',\n",
       " 'ABL Pension Fund - Forward 0.02% 1.25% 3% 19.12% 17.09% 337.946 2025-05-23 320,000,000',\n",
       " 'Faysal Islamic Pension Fund - Forward 1.24% 1.19% - 19.11% 15.47% 166.465 2025-05-23 119,560,000',\n",
       " 'HBL Government Securities Fund - - 2.15% 1.72% 0.15% 19.09% 19.81% 133.579 2025-05-23 11,375,000,000',\n",
       " 'AL Habib Fixed Return Fund Plan 20 - - 0.23% 0.08% 0.07% 18.74% 11.58% 102.442 2025-05-22 1,710,370,000',\n",
       " 'Alhamra Government Securities Plan I - - 1.8% 1.26% - 18.6% 14.91% 113.356 2025-05-23 458,000,000',\n",
       " 'UBL Retirement Saving Fund - - 1.55% 1.4% - 18.59% 18.14% 504.5 2025-05-22 2,348,990,000',\n",
       " 'NAFA Pension Fund - Forward 1.47% 1.12% 0.5% 18.58% 16.75% 359.16 2025-05-23 2,272,000,000',\n",
       " 'NBP Islamic Fixed Term Munafa Plan III ↑ 11.54\\n3,087,000,000 58.6555%',\n",
       " 'Meezan Paidaar Munafa Plan XII ↑ 57.87\\n861,980,000 58.4029%',\n",
       " 'MCB Pakistan Fixed Return Plan 22 ↑ 107.11',\n",
       " '',\n",
       " '',\n",
       " '',\n",
       " '',\n",
       " '',\n",
       " '',\n",
       " '',\n",
       " '',\n",
       " '',\n",
       " '',\n",
       " '',\n",
       " '',\n",
       " '',\n",
       " '',\n",
       " '',\n",
       " '',\n",
       " '']"
      ]
     },
     "execution_count": 154,
     "metadata": {},
     "output_type": "execute_result"
    }
   ],
   "source": [
    "tables_data = driver.find_elements(By.TAG_NAME,'tr')\n",
    "data_text= [table_data.text for table_data in tables_data]\n",
    "data_text"
   ]
  },
  {
   "cell_type": "code",
   "execution_count": 155,
   "id": "49cc22ae",
   "metadata": {},
   "outputs": [],
   "source": [
    "all_data = []\n",
    "for row in rows:\n",
    "    all_data.append(data_text)\n",
    "     "
   ]
  },
  {
   "cell_type": "code",
   "execution_count": 156,
   "id": "aa9d7b88",
   "metadata": {},
   "outputs": [
    {
     "name": "stdout",
     "output_type": "stream",
     "text": [
      "✅ Done! Scraped 7 rows.\n"
     ]
    }
   ],
   "source": [
    "# Save to CSV\n",
    "with open(\"Task_2.csv\", mode=\"w\", newline=\"\", encoding=\"utf-8\") as file:\n",
    "    writer = csv.writer(file)\n",
    "    writer.writerows(all_data)\n",
    "\n",
    "print(f\"✅ Done! Scraped {len(all_data)} rows.\")"
   ]
  }
 ],
 "metadata": {
  "kernelspec": {
   "display_name": "base",
   "language": "python",
   "name": "python3"
  },
  "language_info": {
   "codemirror_mode": {
    "name": "ipython",
    "version": 3
   },
   "file_extension": ".py",
   "mimetype": "text/x-python",
   "name": "python",
   "nbconvert_exporter": "python",
   "pygments_lexer": "ipython3",
   "version": "3.12.7"
  }
 },
 "nbformat": 4,
 "nbformat_minor": 5
}
