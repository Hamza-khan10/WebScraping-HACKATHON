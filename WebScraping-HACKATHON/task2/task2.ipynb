{
 "cells": [
  {
   "cell_type": "code",
   "execution_count": 106,
   "id": "4ba0e328",
   "metadata": {},
   "outputs": [],
   "source": [
    "from selenium import webdriver\n",
    "from selenium.webdriver.common.by import By\n",
    "import time\n",
    "import csv"
   ]
  },
  {
   "cell_type": "code",
   "execution_count": 107,
   "id": "621fab91",
   "metadata": {},
   "outputs": [],
   "source": [
    "# Setup Chrome WebDriver\n",
    "driver = webdriver.Chrome(executable_path=r\"E:\\adobe\\CDE\\chromedriver-win64\\chromedriver-win64\\chromedriver.exe\")\n",
    "driver.get('https://sarmaaya.pk/mutual-funds/')\n",
    "time.sleep(5)"
   ]
  },
  {
   "cell_type": "code",
   "execution_count": 108,
   "id": "55a4352e",
   "metadata": {},
   "outputs": [
    {
     "data": {
      "text/plain": [
       "'Fund Name RP PM TER MF SAM ReturnMTD ReturnYTD NAV Date AUM'"
      ]
     },
     "execution_count": 108,
     "metadata": {},
     "output_type": "execute_result"
    }
   ],
   "source": [
    "tables = driver.find_elements(By.CLASS_NAME,'col-sm-12')\n",
    "table_text = [table.text for table in tables]\n",
    "header = driver.find_element(By.TAG_NAME,'thead').text\n",
    "header"
   ]
  },
  {
   "cell_type": "code",
   "execution_count": 109,
   "id": "2905892e",
   "metadata": {},
   "outputs": [
    {
     "name": "stdout",
     "output_type": "stream",
     "text": [
      "Reached last page.\n"
     ]
    }
   ],
   "source": [
    "all_data = []\n",
    "\n",
    "# Get table header properly using <th> tags\n",
    "try:\n",
    "    header_elements = driver.find_elements(By.CSS_SELECTOR, 'thead th')\n",
    "    header = [th.text.strip() for th in header_elements]\n",
    "except Exception as e:\n",
    "    print(f\"Couldn't extract header: {e}\")\n",
    "    header = []\n",
    "\n",
    "# Loop through pages\n",
    "for i in range(22):\n",
    "    try:\n",
    "        driver.execute_script(\"window.scrollBy(0, 100);\")\n",
    "        time.sleep(5)\n",
    "\n",
    "        # Collect all row data (excluding headers)\n",
    "        row_elements = driver.find_elements(By.CSS_SELECTOR, 'tbody tr')\n",
    "        for row in row_elements:\n",
    "            cols = row.find_elements(By.TAG_NAME, 'td')\n",
    "            row_data = [col.text.strip() for col in cols]\n",
    "            if row_data and row_data not in all_data:\n",
    "                all_data.append(row_data)\n",
    "\n",
    "        # Try to go to the next page\n",
    "        try:\n",
    "            load_more = driver.find_element(By.ID, 'funds-table_next')\n",
    "            if 'disabled' in load_more.get_attribute('class'):\n",
    "                print(\"Reached last page.\")\n",
    "                break\n",
    "            load_more.click()\n",
    "            time.sleep(5)\n",
    "        except Exception as click_error:\n",
    "            print(f\"Couldn't click 'Next' button: {click_error}\")\n",
    "            break\n",
    "\n",
    "    except Exception as e:\n",
    "        print(f\"Stopped at iteration {i} due to error: {e}\")\n",
    "        break"
   ]
  },
  {
   "cell_type": "code",
   "execution_count": 110,
   "id": "2fcad65b",
   "metadata": {},
   "outputs": [
    {
     "data": {
      "text/plain": [
       "['Fund Name RP PM TER MF SAM ReturnMTD ReturnYTD NAV Date AUM',\n",
       " 'MCB DCF Fixed Return III (Plan IV) - - 0.5% 0.31% - 21.41% 15.32% 109.615 2025-05-27 539,990,000',\n",
       " 'Alfalah GHP Islamic Pension Fund - Forward 1.4% 0.54% - 21.21% 18.22% 196.396 2025-05-27 171,430,000',\n",
       " 'Alfalah Government Securities Fund Plan II - - 0.84% 0.82% 0.13% 21.13% 13.64% 103.989 2025-05-27 867,640,000',\n",
       " 'UBL Special Savings Plan X - - 1.17% 1% - 20.89% 18.83% 117.689 2025-05-28 977,850,000',\n",
       " 'JS Fixed Term Munafa Fund (JS Fixed Term Munafa Plan XIII) - - 0.75% 0.2% 0.3% 20.75% 12.28% 104.44 2025-05-27 6,465,870,000',\n",
       " 'Alfalah Islamic Sovereign Fund (Alfalah Islamic Sovereign Plan II) Medium Forward 2.63% 0.97% 0.43% 20.72% 15.68% 122.812 2025-05-27 2,944,230,000',\n",
       " 'Pakistan Income Enhancement Fund - - 2.07% 1.32% 0.3% 20.64% 17.97% 63.8884 2025-05-27 3,911,050,000',\n",
       " 'MCB Pakistan Sovereign Fund - - 2% 1.38% 0.3% 20.62% 18.83% 63.22 2025-05-27 29,620,700,000',\n",
       " 'Alfalah GHP Income Multiplier Fund Medium Forward 2.89% 1.74% 0.41% 20.5% 14.88% 61.711 2025-05-27 1,114,610,000',\n",
       " 'JS Fixed Term Munafa Fund (JS Fixed Term Munafa Plan XIV) - - 0.71% 0.2% 0.3% 20.35% 12.57% 103.134 2025-05-27 5,382,930,000',\n",
       " 'MCB DCF Fixed Return II (Plan I) - - 1.04% 1.75% - 20.35% 16.37% 110.39 2025-05-02 122,500,000',\n",
       " 'HBL Islamic Pension Fund - Forward 1% 0.75% - 20.05% 17.18% 309.23 2025-05-27 475,180,000',\n",
       " 'MCB Government Securities Plan I - - 1.6% 1.41% - 19.91% 12.92% 107.111 2025-05-27 22,879,900,000',\n",
       " 'Faysal Islamic Pension Fund - Forward 1.37% 1.19% - 19.87% 15.62% 166.902 2025-05-27 119,560,000',\n",
       " 'Alfalah Stable Return Fund Plan XX - - 1% 0.7% - 19.6% 19.6% 100.645 2025-05-27 -',\n",
       " 'Pakistan Pension Fund - Forward 1.76% 1.3% - 19.58% 20.05% 591.09 2025-05-27 2,085,690,000',\n",
       " 'Faysal Islamic Savings Growth Fund Medium Forward 2.4% 1.93% 2% 19.55% 15.84% 120.517 2025-05-27 2,459,020,000',\n",
       " 'Faysal Islamic Sovereign Fund (Faysal Islamic Sovereign Plan I) Low Forward 2.45% 2% 0.75% 19.3% 12.64% 112.142 2025-05-27 2,228,630,000',\n",
       " 'JS Government Securities Fund - - 2.06% 2% 1.07% 19.15% 16.08% 112.226 2025-05-27 6,365,500,000',\n",
       " 'UBL Growth & Income Fund - - 1.95% 2% - 19.07% 35.88% 113.159 2025-05-28 2,875,510,000',\n",
       " 'Pak Qatar Income Plan - - 0.96% 0.45% 0.5% 19% 16.6% 116.552 2025-05-27 11,756,900,000',\n",
       " 'Alhamra Government Securities Plan I - - 1.8% 0.88% - 18.58% 14.98% 113.582 2025-05-27 458,000,000',\n",
       " 'UBL Fixed Return Plan II (W) - - 0.83% 0.36% - 18.45% 7.55% 102.936 2025-05-15 306,490,000',\n",
       " 'Pak Qatar Islamic Pension Fund - - 2.27% 1.25% 0.5% 18.34% 15.92% 150.719 2025-05-27 27,750,000',\n",
       " 'NAFA Pension Fund - Forward 1.47% 1.12% 0.5% 18.32% 16.78% 359.814 2025-05-27 2,272,000,000',\n",
       " 'NBP Islamic Fixed Term Munafa Plan III ↑ 11.54\\n3,087,000,000 58.6555%',\n",
       " 'Meezan Paidaar Munafa Plan XII ↑ 57.87\\n861,980,000 58.4029%',\n",
       " 'MCB Pakistan Fixed Return Plan 22 ↑ 107.11\\n1,683,120,000 31.0834%',\n",
       " '',\n",
       " '',\n",
       " '',\n",
       " '',\n",
       " '',\n",
       " '',\n",
       " '',\n",
       " '',\n",
       " '',\n",
       " '',\n",
       " '',\n",
       " '',\n",
       " '',\n",
       " '',\n",
       " '',\n",
       " '',\n",
       " '']"
      ]
     },
     "execution_count": 110,
     "metadata": {},
     "output_type": "execute_result"
    }
   ],
   "source": [
    "data_texts"
   ]
  },
  {
   "cell_type": "code",
   "execution_count": 111,
   "id": "aa9d7b88",
   "metadata": {},
   "outputs": [
    {
     "name": "stdout",
     "output_type": "stream",
     "text": [
      "✅ Data exported to Task2.csv'.\n"
     ]
    }
   ],
   "source": [
    "# Export to CSV\n",
    "with open(\"Task2.csv\", \"w\", newline=\"\", encoding=\"utf-8\") as file:\n",
    "    writer = csv.writer(file)\n",
    "    if header:\n",
    "        writer.writerow(header)\n",
    "    writer.writerows(all_data)\n",
    "\n",
    "print(\"✅ Data exported to Task2.csv'.\")"
   ]
  },
  {
   "cell_type": "code",
   "execution_count": null,
   "id": "4c78b704",
   "metadata": {},
   "outputs": [],
   "source": []
  }
 ],
 "metadata": {
  "kernelspec": {
   "display_name": "base",
   "language": "python",
   "name": "python3"
  },
  "language_info": {
   "codemirror_mode": {
    "name": "ipython",
    "version": 3
   },
   "file_extension": ".py",
   "mimetype": "text/x-python",
   "name": "python",
   "nbconvert_exporter": "python",
   "pygments_lexer": "ipython3",
   "version": "3.12.7"
  }
 },
 "nbformat": 4,
 "nbformat_minor": 5
}
