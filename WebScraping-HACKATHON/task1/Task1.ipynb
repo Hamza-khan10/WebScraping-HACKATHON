{
 "cells": [
  {
   "cell_type": "code",
   "execution_count": 17,
   "id": "7e26515c",
   "metadata": {},
   "outputs": [],
   "source": [
    "from selenium import webdriver\n",
    "from selenium.webdriver.common.by import By\n",
    "from selenium.webdriver.chrome.service import Service\n",
    "from selenium.webdriver.support.ui import WebDriverWait\n",
    "from selenium.webdriver.support import expected_conditions as EC\n",
    "import time\n",
    "import csv"
   ]
  },
  {
   "cell_type": "code",
   "execution_count": 18,
   "id": "2690a3d4",
   "metadata": {},
   "outputs": [],
   "source": [
    "driver = webdriver.Chrome(executable_path=r\"E:\\adobe\\CDE\\chromedriver-win64\\chromedriver-win64\\chromedriver.exe\")\n",
    "driver.set_script_timeout(60)\n",
    "driver.get('https://www.tradingview.com/markets/stocks-usa/market-movers-all-stocks/')\n"
   ]
  },
  {
   "cell_type": "code",
   "execution_count": 19,
   "id": "63b4d277",
   "metadata": {},
   "outputs": [
    {
     "data": {
      "text/plain": [
       "[<selenium.webdriver.remote.webelement.WebElement (session=\"66b071d0cd33b9f7e54286dc120f8e44\", element=\"f.7BE25AD662F6733F7F5173B7FD973C3C.d.52415C62D6B91DE39D0CFD99F18A8AA0.e.106\")>,\n",
       " <selenium.webdriver.remote.webelement.WebElement (session=\"66b071d0cd33b9f7e54286dc120f8e44\", element=\"f.7BE25AD662F6733F7F5173B7FD973C3C.d.52415C62D6B91DE39D0CFD99F18A8AA0.e.107\")>]"
      ]
     },
     "execution_count": 19,
     "metadata": {},
     "output_type": "execute_result"
    }
   ],
   "source": [
    "table = driver.find_elements(By.CLASS_NAME,'table-Ngq2xrcG')\n",
    "table"
   ]
  },
  {
   "cell_type": "code",
   "execution_count": 20,
   "id": "473a147f",
   "metadata": {},
   "outputs": [
    {
     "data": {
      "text/plain": [
       "[<selenium.webdriver.remote.webelement.WebElement (session=\"66b071d0cd33b9f7e54286dc120f8e44\", element=\"f.7BE25AD662F6733F7F5173B7FD973C3C.d.52415C62D6B91DE39D0CFD99F18A8AA0.e.108\")>,\n",
       " <selenium.webdriver.remote.webelement.WebElement (session=\"66b071d0cd33b9f7e54286dc120f8e44\", element=\"f.7BE25AD662F6733F7F5173B7FD973C3C.d.52415C62D6B91DE39D0CFD99F18A8AA0.e.109\")>,\n",
       " <selenium.webdriver.remote.webelement.WebElement (session=\"66b071d0cd33b9f7e54286dc120f8e44\", element=\"f.7BE25AD662F6733F7F5173B7FD973C3C.d.52415C62D6B91DE39D0CFD99F18A8AA0.e.110\")>,\n",
       " <selenium.webdriver.remote.webelement.WebElement (session=\"66b071d0cd33b9f7e54286dc120f8e44\", element=\"f.7BE25AD662F6733F7F5173B7FD973C3C.d.52415C62D6B91DE39D0CFD99F18A8AA0.e.111\")>,\n",
       " <selenium.webdriver.remote.webelement.WebElement (session=\"66b071d0cd33b9f7e54286dc120f8e44\", element=\"f.7BE25AD662F6733F7F5173B7FD973C3C.d.52415C62D6B91DE39D0CFD99F18A8AA0.e.112\")>,\n",
       " <selenium.webdriver.remote.webelement.WebElement (session=\"66b071d0cd33b9f7e54286dc120f8e44\", element=\"f.7BE25AD662F6733F7F5173B7FD973C3C.d.52415C62D6B91DE39D0CFD99F18A8AA0.e.113\")>,\n",
       " <selenium.webdriver.remote.webelement.WebElement (session=\"66b071d0cd33b9f7e54286dc120f8e44\", element=\"f.7BE25AD662F6733F7F5173B7FD973C3C.d.52415C62D6B91DE39D0CFD99F18A8AA0.e.114\")>,\n",
       " <selenium.webdriver.remote.webelement.WebElement (session=\"66b071d0cd33b9f7e54286dc120f8e44\", element=\"f.7BE25AD662F6733F7F5173B7FD973C3C.d.52415C62D6B91DE39D0CFD99F18A8AA0.e.115\")>,\n",
       " <selenium.webdriver.remote.webelement.WebElement (session=\"66b071d0cd33b9f7e54286dc120f8e44\", element=\"f.7BE25AD662F6733F7F5173B7FD973C3C.d.52415C62D6B91DE39D0CFD99F18A8AA0.e.116\")>,\n",
       " <selenium.webdriver.remote.webelement.WebElement (session=\"66b071d0cd33b9f7e54286dc120f8e44\", element=\"f.7BE25AD662F6733F7F5173B7FD973C3C.d.52415C62D6B91DE39D0CFD99F18A8AA0.e.117\")>,\n",
       " <selenium.webdriver.remote.webelement.WebElement (session=\"66b071d0cd33b9f7e54286dc120f8e44\", element=\"f.7BE25AD662F6733F7F5173B7FD973C3C.d.52415C62D6B91DE39D0CFD99F18A8AA0.e.118\")>,\n",
       " <selenium.webdriver.remote.webelement.WebElement (session=\"66b071d0cd33b9f7e54286dc120f8e44\", element=\"f.7BE25AD662F6733F7F5173B7FD973C3C.d.52415C62D6B91DE39D0CFD99F18A8AA0.e.119\")>,\n",
       " <selenium.webdriver.remote.webelement.WebElement (session=\"66b071d0cd33b9f7e54286dc120f8e44\", element=\"f.7BE25AD662F6733F7F5173B7FD973C3C.d.52415C62D6B91DE39D0CFD99F18A8AA0.e.120\")>,\n",
       " <selenium.webdriver.remote.webelement.WebElement (session=\"66b071d0cd33b9f7e54286dc120f8e44\", element=\"f.7BE25AD662F6733F7F5173B7FD973C3C.d.52415C62D6B91DE39D0CFD99F18A8AA0.e.121\")>,\n",
       " <selenium.webdriver.remote.webelement.WebElement (session=\"66b071d0cd33b9f7e54286dc120f8e44\", element=\"f.7BE25AD662F6733F7F5173B7FD973C3C.d.52415C62D6B91DE39D0CFD99F18A8AA0.e.122\")>,\n",
       " <selenium.webdriver.remote.webelement.WebElement (session=\"66b071d0cd33b9f7e54286dc120f8e44\", element=\"f.7BE25AD662F6733F7F5173B7FD973C3C.d.52415C62D6B91DE39D0CFD99F18A8AA0.e.123\")>,\n",
       " <selenium.webdriver.remote.webelement.WebElement (session=\"66b071d0cd33b9f7e54286dc120f8e44\", element=\"f.7BE25AD662F6733F7F5173B7FD973C3C.d.52415C62D6B91DE39D0CFD99F18A8AA0.e.124\")>,\n",
       " <selenium.webdriver.remote.webelement.WebElement (session=\"66b071d0cd33b9f7e54286dc120f8e44\", element=\"f.7BE25AD662F6733F7F5173B7FD973C3C.d.52415C62D6B91DE39D0CFD99F18A8AA0.e.125\")>,\n",
       " <selenium.webdriver.remote.webelement.WebElement (session=\"66b071d0cd33b9f7e54286dc120f8e44\", element=\"f.7BE25AD662F6733F7F5173B7FD973C3C.d.52415C62D6B91DE39D0CFD99F18A8AA0.e.126\")>,\n",
       " <selenium.webdriver.remote.webelement.WebElement (session=\"66b071d0cd33b9f7e54286dc120f8e44\", element=\"f.7BE25AD662F6733F7F5173B7FD973C3C.d.52415C62D6B91DE39D0CFD99F18A8AA0.e.127\")>,\n",
       " <selenium.webdriver.remote.webelement.WebElement (session=\"66b071d0cd33b9f7e54286dc120f8e44\", element=\"f.7BE25AD662F6733F7F5173B7FD973C3C.d.52415C62D6B91DE39D0CFD99F18A8AA0.e.128\")>,\n",
       " <selenium.webdriver.remote.webelement.WebElement (session=\"66b071d0cd33b9f7e54286dc120f8e44\", element=\"f.7BE25AD662F6733F7F5173B7FD973C3C.d.52415C62D6B91DE39D0CFD99F18A8AA0.e.129\")>,\n",
       " <selenium.webdriver.remote.webelement.WebElement (session=\"66b071d0cd33b9f7e54286dc120f8e44\", element=\"f.7BE25AD662F6733F7F5173B7FD973C3C.d.52415C62D6B91DE39D0CFD99F18A8AA0.e.130\")>,\n",
       " <selenium.webdriver.remote.webelement.WebElement (session=\"66b071d0cd33b9f7e54286dc120f8e44\", element=\"f.7BE25AD662F6733F7F5173B7FD973C3C.d.52415C62D6B91DE39D0CFD99F18A8AA0.e.131\")>,\n",
       " <selenium.webdriver.remote.webelement.WebElement (session=\"66b071d0cd33b9f7e54286dc120f8e44\", element=\"f.7BE25AD662F6733F7F5173B7FD973C3C.d.52415C62D6B91DE39D0CFD99F18A8AA0.e.132\")>,\n",
       " <selenium.webdriver.remote.webelement.WebElement (session=\"66b071d0cd33b9f7e54286dc120f8e44\", element=\"f.7BE25AD662F6733F7F5173B7FD973C3C.d.52415C62D6B91DE39D0CFD99F18A8AA0.e.133\")>,\n",
       " <selenium.webdriver.remote.webelement.WebElement (session=\"66b071d0cd33b9f7e54286dc120f8e44\", element=\"f.7BE25AD662F6733F7F5173B7FD973C3C.d.52415C62D6B91DE39D0CFD99F18A8AA0.e.134\")>,\n",
       " <selenium.webdriver.remote.webelement.WebElement (session=\"66b071d0cd33b9f7e54286dc120f8e44\", element=\"f.7BE25AD662F6733F7F5173B7FD973C3C.d.52415C62D6B91DE39D0CFD99F18A8AA0.e.135\")>,\n",
       " <selenium.webdriver.remote.webelement.WebElement (session=\"66b071d0cd33b9f7e54286dc120f8e44\", element=\"f.7BE25AD662F6733F7F5173B7FD973C3C.d.52415C62D6B91DE39D0CFD99F18A8AA0.e.136\")>,\n",
       " <selenium.webdriver.remote.webelement.WebElement (session=\"66b071d0cd33b9f7e54286dc120f8e44\", element=\"f.7BE25AD662F6733F7F5173B7FD973C3C.d.52415C62D6B91DE39D0CFD99F18A8AA0.e.137\")>,\n",
       " <selenium.webdriver.remote.webelement.WebElement (session=\"66b071d0cd33b9f7e54286dc120f8e44\", element=\"f.7BE25AD662F6733F7F5173B7FD973C3C.d.52415C62D6B91DE39D0CFD99F18A8AA0.e.138\")>,\n",
       " <selenium.webdriver.remote.webelement.WebElement (session=\"66b071d0cd33b9f7e54286dc120f8e44\", element=\"f.7BE25AD662F6733F7F5173B7FD973C3C.d.52415C62D6B91DE39D0CFD99F18A8AA0.e.139\")>,\n",
       " <selenium.webdriver.remote.webelement.WebElement (session=\"66b071d0cd33b9f7e54286dc120f8e44\", element=\"f.7BE25AD662F6733F7F5173B7FD973C3C.d.52415C62D6B91DE39D0CFD99F18A8AA0.e.140\")>,\n",
       " <selenium.webdriver.remote.webelement.WebElement (session=\"66b071d0cd33b9f7e54286dc120f8e44\", element=\"f.7BE25AD662F6733F7F5173B7FD973C3C.d.52415C62D6B91DE39D0CFD99F18A8AA0.e.141\")>,\n",
       " <selenium.webdriver.remote.webelement.WebElement (session=\"66b071d0cd33b9f7e54286dc120f8e44\", element=\"f.7BE25AD662F6733F7F5173B7FD973C3C.d.52415C62D6B91DE39D0CFD99F18A8AA0.e.142\")>,\n",
       " <selenium.webdriver.remote.webelement.WebElement (session=\"66b071d0cd33b9f7e54286dc120f8e44\", element=\"f.7BE25AD662F6733F7F5173B7FD973C3C.d.52415C62D6B91DE39D0CFD99F18A8AA0.e.143\")>,\n",
       " <selenium.webdriver.remote.webelement.WebElement (session=\"66b071d0cd33b9f7e54286dc120f8e44\", element=\"f.7BE25AD662F6733F7F5173B7FD973C3C.d.52415C62D6B91DE39D0CFD99F18A8AA0.e.144\")>,\n",
       " <selenium.webdriver.remote.webelement.WebElement (session=\"66b071d0cd33b9f7e54286dc120f8e44\", element=\"f.7BE25AD662F6733F7F5173B7FD973C3C.d.52415C62D6B91DE39D0CFD99F18A8AA0.e.145\")>,\n",
       " <selenium.webdriver.remote.webelement.WebElement (session=\"66b071d0cd33b9f7e54286dc120f8e44\", element=\"f.7BE25AD662F6733F7F5173B7FD973C3C.d.52415C62D6B91DE39D0CFD99F18A8AA0.e.146\")>,\n",
       " <selenium.webdriver.remote.webelement.WebElement (session=\"66b071d0cd33b9f7e54286dc120f8e44\", element=\"f.7BE25AD662F6733F7F5173B7FD973C3C.d.52415C62D6B91DE39D0CFD99F18A8AA0.e.147\")>,\n",
       " <selenium.webdriver.remote.webelement.WebElement (session=\"66b071d0cd33b9f7e54286dc120f8e44\", element=\"f.7BE25AD662F6733F7F5173B7FD973C3C.d.52415C62D6B91DE39D0CFD99F18A8AA0.e.148\")>,\n",
       " <selenium.webdriver.remote.webelement.WebElement (session=\"66b071d0cd33b9f7e54286dc120f8e44\", element=\"f.7BE25AD662F6733F7F5173B7FD973C3C.d.52415C62D6B91DE39D0CFD99F18A8AA0.e.149\")>,\n",
       " <selenium.webdriver.remote.webelement.WebElement (session=\"66b071d0cd33b9f7e54286dc120f8e44\", element=\"f.7BE25AD662F6733F7F5173B7FD973C3C.d.52415C62D6B91DE39D0CFD99F18A8AA0.e.150\")>,\n",
       " <selenium.webdriver.remote.webelement.WebElement (session=\"66b071d0cd33b9f7e54286dc120f8e44\", element=\"f.7BE25AD662F6733F7F5173B7FD973C3C.d.52415C62D6B91DE39D0CFD99F18A8AA0.e.151\")>,\n",
       " <selenium.webdriver.remote.webelement.WebElement (session=\"66b071d0cd33b9f7e54286dc120f8e44\", element=\"f.7BE25AD662F6733F7F5173B7FD973C3C.d.52415C62D6B91DE39D0CFD99F18A8AA0.e.152\")>,\n",
       " <selenium.webdriver.remote.webelement.WebElement (session=\"66b071d0cd33b9f7e54286dc120f8e44\", element=\"f.7BE25AD662F6733F7F5173B7FD973C3C.d.52415C62D6B91DE39D0CFD99F18A8AA0.e.153\")>,\n",
       " <selenium.webdriver.remote.webelement.WebElement (session=\"66b071d0cd33b9f7e54286dc120f8e44\", element=\"f.7BE25AD662F6733F7F5173B7FD973C3C.d.52415C62D6B91DE39D0CFD99F18A8AA0.e.154\")>,\n",
       " <selenium.webdriver.remote.webelement.WebElement (session=\"66b071d0cd33b9f7e54286dc120f8e44\", element=\"f.7BE25AD662F6733F7F5173B7FD973C3C.d.52415C62D6B91DE39D0CFD99F18A8AA0.e.155\")>,\n",
       " <selenium.webdriver.remote.webelement.WebElement (session=\"66b071d0cd33b9f7e54286dc120f8e44\", element=\"f.7BE25AD662F6733F7F5173B7FD973C3C.d.52415C62D6B91DE39D0CFD99F18A8AA0.e.156\")>,\n",
       " <selenium.webdriver.remote.webelement.WebElement (session=\"66b071d0cd33b9f7e54286dc120f8e44\", element=\"f.7BE25AD662F6733F7F5173B7FD973C3C.d.52415C62D6B91DE39D0CFD99F18A8AA0.e.157\")>,\n",
       " <selenium.webdriver.remote.webelement.WebElement (session=\"66b071d0cd33b9f7e54286dc120f8e44\", element=\"f.7BE25AD662F6733F7F5173B7FD973C3C.d.52415C62D6B91DE39D0CFD99F18A8AA0.e.158\")>,\n",
       " <selenium.webdriver.remote.webelement.WebElement (session=\"66b071d0cd33b9f7e54286dc120f8e44\", element=\"f.7BE25AD662F6733F7F5173B7FD973C3C.d.52415C62D6B91DE39D0CFD99F18A8AA0.e.159\")>,\n",
       " <selenium.webdriver.remote.webelement.WebElement (session=\"66b071d0cd33b9f7e54286dc120f8e44\", element=\"f.7BE25AD662F6733F7F5173B7FD973C3C.d.52415C62D6B91DE39D0CFD99F18A8AA0.e.160\")>,\n",
       " <selenium.webdriver.remote.webelement.WebElement (session=\"66b071d0cd33b9f7e54286dc120f8e44\", element=\"f.7BE25AD662F6733F7F5173B7FD973C3C.d.52415C62D6B91DE39D0CFD99F18A8AA0.e.161\")>,\n",
       " <selenium.webdriver.remote.webelement.WebElement (session=\"66b071d0cd33b9f7e54286dc120f8e44\", element=\"f.7BE25AD662F6733F7F5173B7FD973C3C.d.52415C62D6B91DE39D0CFD99F18A8AA0.e.162\")>,\n",
       " <selenium.webdriver.remote.webelement.WebElement (session=\"66b071d0cd33b9f7e54286dc120f8e44\", element=\"f.7BE25AD662F6733F7F5173B7FD973C3C.d.52415C62D6B91DE39D0CFD99F18A8AA0.e.163\")>,\n",
       " <selenium.webdriver.remote.webelement.WebElement (session=\"66b071d0cd33b9f7e54286dc120f8e44\", element=\"f.7BE25AD662F6733F7F5173B7FD973C3C.d.52415C62D6B91DE39D0CFD99F18A8AA0.e.164\")>,\n",
       " <selenium.webdriver.remote.webelement.WebElement (session=\"66b071d0cd33b9f7e54286dc120f8e44\", element=\"f.7BE25AD662F6733F7F5173B7FD973C3C.d.52415C62D6B91DE39D0CFD99F18A8AA0.e.165\")>,\n",
       " <selenium.webdriver.remote.webelement.WebElement (session=\"66b071d0cd33b9f7e54286dc120f8e44\", element=\"f.7BE25AD662F6733F7F5173B7FD973C3C.d.52415C62D6B91DE39D0CFD99F18A8AA0.e.166\")>,\n",
       " <selenium.webdriver.remote.webelement.WebElement (session=\"66b071d0cd33b9f7e54286dc120f8e44\", element=\"f.7BE25AD662F6733F7F5173B7FD973C3C.d.52415C62D6B91DE39D0CFD99F18A8AA0.e.167\")>,\n",
       " <selenium.webdriver.remote.webelement.WebElement (session=\"66b071d0cd33b9f7e54286dc120f8e44\", element=\"f.7BE25AD662F6733F7F5173B7FD973C3C.d.52415C62D6B91DE39D0CFD99F18A8AA0.e.168\")>,\n",
       " <selenium.webdriver.remote.webelement.WebElement (session=\"66b071d0cd33b9f7e54286dc120f8e44\", element=\"f.7BE25AD662F6733F7F5173B7FD973C3C.d.52415C62D6B91DE39D0CFD99F18A8AA0.e.169\")>,\n",
       " <selenium.webdriver.remote.webelement.WebElement (session=\"66b071d0cd33b9f7e54286dc120f8e44\", element=\"f.7BE25AD662F6733F7F5173B7FD973C3C.d.52415C62D6B91DE39D0CFD99F18A8AA0.e.170\")>,\n",
       " <selenium.webdriver.remote.webelement.WebElement (session=\"66b071d0cd33b9f7e54286dc120f8e44\", element=\"f.7BE25AD662F6733F7F5173B7FD973C3C.d.52415C62D6B91DE39D0CFD99F18A8AA0.e.171\")>,\n",
       " <selenium.webdriver.remote.webelement.WebElement (session=\"66b071d0cd33b9f7e54286dc120f8e44\", element=\"f.7BE25AD662F6733F7F5173B7FD973C3C.d.52415C62D6B91DE39D0CFD99F18A8AA0.e.172\")>,\n",
       " <selenium.webdriver.remote.webelement.WebElement (session=\"66b071d0cd33b9f7e54286dc120f8e44\", element=\"f.7BE25AD662F6733F7F5173B7FD973C3C.d.52415C62D6B91DE39D0CFD99F18A8AA0.e.173\")>,\n",
       " <selenium.webdriver.remote.webelement.WebElement (session=\"66b071d0cd33b9f7e54286dc120f8e44\", element=\"f.7BE25AD662F6733F7F5173B7FD973C3C.d.52415C62D6B91DE39D0CFD99F18A8AA0.e.174\")>,\n",
       " <selenium.webdriver.remote.webelement.WebElement (session=\"66b071d0cd33b9f7e54286dc120f8e44\", element=\"f.7BE25AD662F6733F7F5173B7FD973C3C.d.52415C62D6B91DE39D0CFD99F18A8AA0.e.175\")>,\n",
       " <selenium.webdriver.remote.webelement.WebElement (session=\"66b071d0cd33b9f7e54286dc120f8e44\", element=\"f.7BE25AD662F6733F7F5173B7FD973C3C.d.52415C62D6B91DE39D0CFD99F18A8AA0.e.176\")>,\n",
       " <selenium.webdriver.remote.webelement.WebElement (session=\"66b071d0cd33b9f7e54286dc120f8e44\", element=\"f.7BE25AD662F6733F7F5173B7FD973C3C.d.52415C62D6B91DE39D0CFD99F18A8AA0.e.177\")>,\n",
       " <selenium.webdriver.remote.webelement.WebElement (session=\"66b071d0cd33b9f7e54286dc120f8e44\", element=\"f.7BE25AD662F6733F7F5173B7FD973C3C.d.52415C62D6B91DE39D0CFD99F18A8AA0.e.178\")>,\n",
       " <selenium.webdriver.remote.webelement.WebElement (session=\"66b071d0cd33b9f7e54286dc120f8e44\", element=\"f.7BE25AD662F6733F7F5173B7FD973C3C.d.52415C62D6B91DE39D0CFD99F18A8AA0.e.179\")>,\n",
       " <selenium.webdriver.remote.webelement.WebElement (session=\"66b071d0cd33b9f7e54286dc120f8e44\", element=\"f.7BE25AD662F6733F7F5173B7FD973C3C.d.52415C62D6B91DE39D0CFD99F18A8AA0.e.180\")>,\n",
       " <selenium.webdriver.remote.webelement.WebElement (session=\"66b071d0cd33b9f7e54286dc120f8e44\", element=\"f.7BE25AD662F6733F7F5173B7FD973C3C.d.52415C62D6B91DE39D0CFD99F18A8AA0.e.181\")>,\n",
       " <selenium.webdriver.remote.webelement.WebElement (session=\"66b071d0cd33b9f7e54286dc120f8e44\", element=\"f.7BE25AD662F6733F7F5173B7FD973C3C.d.52415C62D6B91DE39D0CFD99F18A8AA0.e.182\")>,\n",
       " <selenium.webdriver.remote.webelement.WebElement (session=\"66b071d0cd33b9f7e54286dc120f8e44\", element=\"f.7BE25AD662F6733F7F5173B7FD973C3C.d.52415C62D6B91DE39D0CFD99F18A8AA0.e.183\")>,\n",
       " <selenium.webdriver.remote.webelement.WebElement (session=\"66b071d0cd33b9f7e54286dc120f8e44\", element=\"f.7BE25AD662F6733F7F5173B7FD973C3C.d.52415C62D6B91DE39D0CFD99F18A8AA0.e.184\")>,\n",
       " <selenium.webdriver.remote.webelement.WebElement (session=\"66b071d0cd33b9f7e54286dc120f8e44\", element=\"f.7BE25AD662F6733F7F5173B7FD973C3C.d.52415C62D6B91DE39D0CFD99F18A8AA0.e.185\")>,\n",
       " <selenium.webdriver.remote.webelement.WebElement (session=\"66b071d0cd33b9f7e54286dc120f8e44\", element=\"f.7BE25AD662F6733F7F5173B7FD973C3C.d.52415C62D6B91DE39D0CFD99F18A8AA0.e.186\")>,\n",
       " <selenium.webdriver.remote.webelement.WebElement (session=\"66b071d0cd33b9f7e54286dc120f8e44\", element=\"f.7BE25AD662F6733F7F5173B7FD973C3C.d.52415C62D6B91DE39D0CFD99F18A8AA0.e.187\")>,\n",
       " <selenium.webdriver.remote.webelement.WebElement (session=\"66b071d0cd33b9f7e54286dc120f8e44\", element=\"f.7BE25AD662F6733F7F5173B7FD973C3C.d.52415C62D6B91DE39D0CFD99F18A8AA0.e.188\")>,\n",
       " <selenium.webdriver.remote.webelement.WebElement (session=\"66b071d0cd33b9f7e54286dc120f8e44\", element=\"f.7BE25AD662F6733F7F5173B7FD973C3C.d.52415C62D6B91DE39D0CFD99F18A8AA0.e.189\")>,\n",
       " <selenium.webdriver.remote.webelement.WebElement (session=\"66b071d0cd33b9f7e54286dc120f8e44\", element=\"f.7BE25AD662F6733F7F5173B7FD973C3C.d.52415C62D6B91DE39D0CFD99F18A8AA0.e.190\")>,\n",
       " <selenium.webdriver.remote.webelement.WebElement (session=\"66b071d0cd33b9f7e54286dc120f8e44\", element=\"f.7BE25AD662F6733F7F5173B7FD973C3C.d.52415C62D6B91DE39D0CFD99F18A8AA0.e.191\")>,\n",
       " <selenium.webdriver.remote.webelement.WebElement (session=\"66b071d0cd33b9f7e54286dc120f8e44\", element=\"f.7BE25AD662F6733F7F5173B7FD973C3C.d.52415C62D6B91DE39D0CFD99F18A8AA0.e.192\")>,\n",
       " <selenium.webdriver.remote.webelement.WebElement (session=\"66b071d0cd33b9f7e54286dc120f8e44\", element=\"f.7BE25AD662F6733F7F5173B7FD973C3C.d.52415C62D6B91DE39D0CFD99F18A8AA0.e.193\")>,\n",
       " <selenium.webdriver.remote.webelement.WebElement (session=\"66b071d0cd33b9f7e54286dc120f8e44\", element=\"f.7BE25AD662F6733F7F5173B7FD973C3C.d.52415C62D6B91DE39D0CFD99F18A8AA0.e.194\")>,\n",
       " <selenium.webdriver.remote.webelement.WebElement (session=\"66b071d0cd33b9f7e54286dc120f8e44\", element=\"f.7BE25AD662F6733F7F5173B7FD973C3C.d.52415C62D6B91DE39D0CFD99F18A8AA0.e.195\")>,\n",
       " <selenium.webdriver.remote.webelement.WebElement (session=\"66b071d0cd33b9f7e54286dc120f8e44\", element=\"f.7BE25AD662F6733F7F5173B7FD973C3C.d.52415C62D6B91DE39D0CFD99F18A8AA0.e.196\")>,\n",
       " <selenium.webdriver.remote.webelement.WebElement (session=\"66b071d0cd33b9f7e54286dc120f8e44\", element=\"f.7BE25AD662F6733F7F5173B7FD973C3C.d.52415C62D6B91DE39D0CFD99F18A8AA0.e.197\")>,\n",
       " <selenium.webdriver.remote.webelement.WebElement (session=\"66b071d0cd33b9f7e54286dc120f8e44\", element=\"f.7BE25AD662F6733F7F5173B7FD973C3C.d.52415C62D6B91DE39D0CFD99F18A8AA0.e.198\")>,\n",
       " <selenium.webdriver.remote.webelement.WebElement (session=\"66b071d0cd33b9f7e54286dc120f8e44\", element=\"f.7BE25AD662F6733F7F5173B7FD973C3C.d.52415C62D6B91DE39D0CFD99F18A8AA0.e.199\")>,\n",
       " <selenium.webdriver.remote.webelement.WebElement (session=\"66b071d0cd33b9f7e54286dc120f8e44\", element=\"f.7BE25AD662F6733F7F5173B7FD973C3C.d.52415C62D6B91DE39D0CFD99F18A8AA0.e.200\")>,\n",
       " <selenium.webdriver.remote.webelement.WebElement (session=\"66b071d0cd33b9f7e54286dc120f8e44\", element=\"f.7BE25AD662F6733F7F5173B7FD973C3C.d.52415C62D6B91DE39D0CFD99F18A8AA0.e.201\")>,\n",
       " <selenium.webdriver.remote.webelement.WebElement (session=\"66b071d0cd33b9f7e54286dc120f8e44\", element=\"f.7BE25AD662F6733F7F5173B7FD973C3C.d.52415C62D6B91DE39D0CFD99F18A8AA0.e.202\")>,\n",
       " <selenium.webdriver.remote.webelement.WebElement (session=\"66b071d0cd33b9f7e54286dc120f8e44\", element=\"f.7BE25AD662F6733F7F5173B7FD973C3C.d.52415C62D6B91DE39D0CFD99F18A8AA0.e.203\")>,\n",
       " <selenium.webdriver.remote.webelement.WebElement (session=\"66b071d0cd33b9f7e54286dc120f8e44\", element=\"f.7BE25AD662F6733F7F5173B7FD973C3C.d.52415C62D6B91DE39D0CFD99F18A8AA0.e.204\")>,\n",
       " <selenium.webdriver.remote.webelement.WebElement (session=\"66b071d0cd33b9f7e54286dc120f8e44\", element=\"f.7BE25AD662F6733F7F5173B7FD973C3C.d.52415C62D6B91DE39D0CFD99F18A8AA0.e.205\")>,\n",
       " <selenium.webdriver.remote.webelement.WebElement (session=\"66b071d0cd33b9f7e54286dc120f8e44\", element=\"f.7BE25AD662F6733F7F5173B7FD973C3C.d.52415C62D6B91DE39D0CFD99F18A8AA0.e.206\")>,\n",
       " <selenium.webdriver.remote.webelement.WebElement (session=\"66b071d0cd33b9f7e54286dc120f8e44\", element=\"f.7BE25AD662F6733F7F5173B7FD973C3C.d.52415C62D6B91DE39D0CFD99F18A8AA0.e.207\")>,\n",
       " <selenium.webdriver.remote.webelement.WebElement (session=\"66b071d0cd33b9f7e54286dc120f8e44\", element=\"f.7BE25AD662F6733F7F5173B7FD973C3C.d.52415C62D6B91DE39D0CFD99F18A8AA0.e.208\")>,\n",
       " <selenium.webdriver.remote.webelement.WebElement (session=\"66b071d0cd33b9f7e54286dc120f8e44\", element=\"f.7BE25AD662F6733F7F5173B7FD973C3C.d.52415C62D6B91DE39D0CFD99F18A8AA0.e.209\")>]"
      ]
     },
     "execution_count": 20,
     "metadata": {},
     "output_type": "execute_result"
    }
   ],
   "source": [
    "rows =driver.find_elements(By.TAG_NAME,'tr')\n",
    "rows"
   ]
  },
  {
   "cell_type": "code",
   "execution_count": 21,
   "id": "5b3ebf97",
   "metadata": {},
   "outputs": [
    {
     "data": {
      "text/plain": [
       "<selenium.webdriver.remote.webelement.WebElement (session=\"66b071d0cd33b9f7e54286dc120f8e44\", element=\"f.7BE25AD662F6733F7F5173B7FD973C3C.d.52415C62D6B91DE39D0CFD99F18A8AA0.e.108\")>"
      ]
     },
     "execution_count": 21,
     "metadata": {},
     "output_type": "execute_result"
    }
   ],
   "source": [
    "wait = WebDriverWait(driver, 20)\n",
    "wait.until(EC.presence_of_element_located((By.TAG_NAME, 'tr')))"
   ]
  },
  {
   "cell_type": "code",
   "execution_count": 22,
   "id": "ddc1ec79",
   "metadata": {},
   "outputs": [
    {
     "name": "stdout",
     "output_type": "stream",
     "text": [
      "Stopped at iteration 26 due to error: Message: element click intercepted: Element <span class=\"content-D4RPB3ZC\">...</span> is not clickable at point (509, 12). Other element would receive the click: <button class=\"tv-header-search-container tv-header-search-container__button tv-header-search-container__button--full js-header-search-button\" aria-label=\"Search\">...</button>\n",
      "  (Session info: chrome=136.0.7103.114)\n",
      "\n"
     ]
    }
   ],
   "source": [
    "# Scroll and click \"Load More\" button multiple times\n",
    "for i in range(300):\n",
    "    try:\n",
    "        driver.execute_script(\"window.scrollBy(0, 700);\")\n",
    "        time.sleep(1)\n",
    "        load_more = wait.until(EC.element_to_be_clickable((By.CLASS_NAME, 'content-D4RPB3ZC')))\n",
    "        load_more.click()\n",
    "        time.sleep(1)\n",
    "    except Exception as e:\n",
    "        print(f\"Stopped at iteration {i} due to error: {e}\")\n",
    "        break"
   ]
  },
  {
   "cell_type": "code",
   "execution_count": 23,
   "id": "3dba5a3c",
   "metadata": {},
   "outputs": [
    {
     "ename": "KeyboardInterrupt",
     "evalue": "",
     "output_type": "error",
     "traceback": [
      "\u001b[1;31m---------------------------------------------------------------------------\u001b[0m",
      "\u001b[1;31mKeyboardInterrupt\u001b[0m                         Traceback (most recent call last)",
      "Cell \u001b[1;32mIn[23], line 9\u001b[0m\n\u001b[0;32m      7\u001b[0m table_data \u001b[38;5;241m=\u001b[39m row\u001b[38;5;241m.\u001b[39mfind_elements(By\u001b[38;5;241m.\u001b[39mTAG_NAME, \u001b[38;5;124m'\u001b[39m\u001b[38;5;124mtd\u001b[39m\u001b[38;5;124m'\u001b[39m)\n\u001b[0;32m      8\u001b[0m \u001b[38;5;28;01mif\u001b[39;00m table_data:\n\u001b[1;32m----> 9\u001b[0m     row_text \u001b[38;5;241m=\u001b[39m [cell\u001b[38;5;241m.\u001b[39mtext \u001b[38;5;28;01mfor\u001b[39;00m cell \u001b[38;5;129;01min\u001b[39;00m table_data]\n\u001b[0;32m     10\u001b[0m     all_data\u001b[38;5;241m.\u001b[39mappend(row_text)\n",
      "File \u001b[1;32me:\\adobe\\CDE\\Jupiter\\Lib\\site-packages\\selenium\\webdriver\\remote\\webelement.py:76\u001b[0m, in \u001b[0;36mWebElement.text\u001b[1;34m(self)\u001b[0m\n\u001b[0;32m     73\u001b[0m \u001b[38;5;129m@property\u001b[39m\n\u001b[0;32m     74\u001b[0m \u001b[38;5;28;01mdef\u001b[39;00m \u001b[38;5;21mtext\u001b[39m(\u001b[38;5;28mself\u001b[39m):\n\u001b[0;32m     75\u001b[0m \u001b[38;5;250m    \u001b[39m\u001b[38;5;124;03m\"\"\"The text of the element.\"\"\"\u001b[39;00m\n\u001b[1;32m---> 76\u001b[0m     \u001b[38;5;28;01mreturn\u001b[39;00m \u001b[38;5;28mself\u001b[39m\u001b[38;5;241m.\u001b[39m_execute(Command\u001b[38;5;241m.\u001b[39mGET_ELEMENT_TEXT)[\u001b[38;5;124m'\u001b[39m\u001b[38;5;124mvalue\u001b[39m\u001b[38;5;124m'\u001b[39m]\n",
      "File \u001b[1;32me:\\adobe\\CDE\\Jupiter\\Lib\\site-packages\\selenium\\webdriver\\remote\\webelement.py:633\u001b[0m, in \u001b[0;36mWebElement._execute\u001b[1;34m(self, command, params)\u001b[0m\n\u001b[0;32m    631\u001b[0m     params \u001b[38;5;241m=\u001b[39m {}\n\u001b[0;32m    632\u001b[0m params[\u001b[38;5;124m'\u001b[39m\u001b[38;5;124mid\u001b[39m\u001b[38;5;124m'\u001b[39m] \u001b[38;5;241m=\u001b[39m \u001b[38;5;28mself\u001b[39m\u001b[38;5;241m.\u001b[39m_id\n\u001b[1;32m--> 633\u001b[0m \u001b[38;5;28;01mreturn\u001b[39;00m \u001b[38;5;28mself\u001b[39m\u001b[38;5;241m.\u001b[39m_parent\u001b[38;5;241m.\u001b[39mexecute(command, params)\n",
      "File \u001b[1;32me:\\adobe\\CDE\\Jupiter\\Lib\\site-packages\\selenium\\webdriver\\remote\\webdriver.py:319\u001b[0m, in \u001b[0;36mWebDriver.execute\u001b[1;34m(self, driver_command, params)\u001b[0m\n\u001b[0;32m    316\u001b[0m         params[\u001b[38;5;124m'\u001b[39m\u001b[38;5;124msessionId\u001b[39m\u001b[38;5;124m'\u001b[39m] \u001b[38;5;241m=\u001b[39m \u001b[38;5;28mself\u001b[39m\u001b[38;5;241m.\u001b[39msession_id\n\u001b[0;32m    318\u001b[0m params \u001b[38;5;241m=\u001b[39m \u001b[38;5;28mself\u001b[39m\u001b[38;5;241m.\u001b[39m_wrap_value(params)\n\u001b[1;32m--> 319\u001b[0m response \u001b[38;5;241m=\u001b[39m \u001b[38;5;28mself\u001b[39m\u001b[38;5;241m.\u001b[39mcommand_executor\u001b[38;5;241m.\u001b[39mexecute(driver_command, params)\n\u001b[0;32m    320\u001b[0m \u001b[38;5;28;01mif\u001b[39;00m response:\n\u001b[0;32m    321\u001b[0m     \u001b[38;5;28mself\u001b[39m\u001b[38;5;241m.\u001b[39merror_handler\u001b[38;5;241m.\u001b[39mcheck_response(response)\n",
      "File \u001b[1;32me:\\adobe\\CDE\\Jupiter\\Lib\\site-packages\\selenium\\webdriver\\remote\\remote_connection.py:374\u001b[0m, in \u001b[0;36mRemoteConnection.execute\u001b[1;34m(self, command, params)\u001b[0m\n\u001b[0;32m    372\u001b[0m data \u001b[38;5;241m=\u001b[39m utils\u001b[38;5;241m.\u001b[39mdump_json(params)\n\u001b[0;32m    373\u001b[0m url \u001b[38;5;241m=\u001b[39m \u001b[38;5;124m'\u001b[39m\u001b[38;5;132;01m%s\u001b[39;00m\u001b[38;5;132;01m%s\u001b[39;00m\u001b[38;5;124m'\u001b[39m \u001b[38;5;241m%\u001b[39m (\u001b[38;5;28mself\u001b[39m\u001b[38;5;241m.\u001b[39m_url, path)\n\u001b[1;32m--> 374\u001b[0m \u001b[38;5;28;01mreturn\u001b[39;00m \u001b[38;5;28mself\u001b[39m\u001b[38;5;241m.\u001b[39m_request(command_info[\u001b[38;5;241m0\u001b[39m], url, body\u001b[38;5;241m=\u001b[39mdata)\n",
      "File \u001b[1;32me:\\adobe\\CDE\\Jupiter\\Lib\\site-packages\\selenium\\webdriver\\remote\\remote_connection.py:397\u001b[0m, in \u001b[0;36mRemoteConnection._request\u001b[1;34m(self, method, url, body)\u001b[0m\n\u001b[0;32m    394\u001b[0m     body \u001b[38;5;241m=\u001b[39m \u001b[38;5;28;01mNone\u001b[39;00m\n\u001b[0;32m    396\u001b[0m \u001b[38;5;28;01mif\u001b[39;00m \u001b[38;5;28mself\u001b[39m\u001b[38;5;241m.\u001b[39mkeep_alive:\n\u001b[1;32m--> 397\u001b[0m     resp \u001b[38;5;241m=\u001b[39m \u001b[38;5;28mself\u001b[39m\u001b[38;5;241m.\u001b[39m_conn\u001b[38;5;241m.\u001b[39mrequest(method, url, body\u001b[38;5;241m=\u001b[39mbody, headers\u001b[38;5;241m=\u001b[39mheaders)\n\u001b[0;32m    399\u001b[0m     statuscode \u001b[38;5;241m=\u001b[39m resp\u001b[38;5;241m.\u001b[39mstatus\n\u001b[0;32m    400\u001b[0m \u001b[38;5;28;01melse\u001b[39;00m:\n",
      "File \u001b[1;32me:\\adobe\\CDE\\Jupiter\\Lib\\site-packages\\urllib3\\request.py:77\u001b[0m, in \u001b[0;36mRequestMethods.request\u001b[1;34m(self, method, url, fields, headers, **urlopen_kw)\u001b[0m\n\u001b[0;32m     74\u001b[0m urlopen_kw[\u001b[38;5;124m\"\u001b[39m\u001b[38;5;124mrequest_url\u001b[39m\u001b[38;5;124m\"\u001b[39m] \u001b[38;5;241m=\u001b[39m url\n\u001b[0;32m     76\u001b[0m \u001b[38;5;28;01mif\u001b[39;00m method \u001b[38;5;129;01min\u001b[39;00m \u001b[38;5;28mself\u001b[39m\u001b[38;5;241m.\u001b[39m_encode_url_methods:\n\u001b[1;32m---> 77\u001b[0m     \u001b[38;5;28;01mreturn\u001b[39;00m \u001b[38;5;28mself\u001b[39m\u001b[38;5;241m.\u001b[39mrequest_encode_url(\n\u001b[0;32m     78\u001b[0m         method, url, fields\u001b[38;5;241m=\u001b[39mfields, headers\u001b[38;5;241m=\u001b[39mheaders, \u001b[38;5;241m*\u001b[39m\u001b[38;5;241m*\u001b[39murlopen_kw\n\u001b[0;32m     79\u001b[0m     )\n\u001b[0;32m     80\u001b[0m \u001b[38;5;28;01melse\u001b[39;00m:\n\u001b[0;32m     81\u001b[0m     \u001b[38;5;28;01mreturn\u001b[39;00m \u001b[38;5;28mself\u001b[39m\u001b[38;5;241m.\u001b[39mrequest_encode_body(\n\u001b[0;32m     82\u001b[0m         method, url, fields\u001b[38;5;241m=\u001b[39mfields, headers\u001b[38;5;241m=\u001b[39mheaders, \u001b[38;5;241m*\u001b[39m\u001b[38;5;241m*\u001b[39murlopen_kw\n\u001b[0;32m     83\u001b[0m     )\n",
      "File \u001b[1;32me:\\adobe\\CDE\\Jupiter\\Lib\\site-packages\\urllib3\\request.py:99\u001b[0m, in \u001b[0;36mRequestMethods.request_encode_url\u001b[1;34m(self, method, url, fields, headers, **urlopen_kw)\u001b[0m\n\u001b[0;32m     96\u001b[0m \u001b[38;5;28;01mif\u001b[39;00m fields:\n\u001b[0;32m     97\u001b[0m     url \u001b[38;5;241m+\u001b[39m\u001b[38;5;241m=\u001b[39m \u001b[38;5;124m\"\u001b[39m\u001b[38;5;124m?\u001b[39m\u001b[38;5;124m\"\u001b[39m \u001b[38;5;241m+\u001b[39m urlencode(fields)\n\u001b[1;32m---> 99\u001b[0m \u001b[38;5;28;01mreturn\u001b[39;00m \u001b[38;5;28mself\u001b[39m\u001b[38;5;241m.\u001b[39murlopen(method, url, \u001b[38;5;241m*\u001b[39m\u001b[38;5;241m*\u001b[39mextra_kw)\n",
      "File \u001b[1;32me:\\adobe\\CDE\\Jupiter\\Lib\\site-packages\\urllib3\\poolmanager.py:376\u001b[0m, in \u001b[0;36mPoolManager.urlopen\u001b[1;34m(self, method, url, redirect, **kw)\u001b[0m\n\u001b[0;32m    374\u001b[0m     response \u001b[38;5;241m=\u001b[39m conn\u001b[38;5;241m.\u001b[39murlopen(method, url, \u001b[38;5;241m*\u001b[39m\u001b[38;5;241m*\u001b[39mkw)\n\u001b[0;32m    375\u001b[0m \u001b[38;5;28;01melse\u001b[39;00m:\n\u001b[1;32m--> 376\u001b[0m     response \u001b[38;5;241m=\u001b[39m conn\u001b[38;5;241m.\u001b[39murlopen(method, u\u001b[38;5;241m.\u001b[39mrequest_uri, \u001b[38;5;241m*\u001b[39m\u001b[38;5;241m*\u001b[39mkw)\n\u001b[0;32m    378\u001b[0m redirect_location \u001b[38;5;241m=\u001b[39m redirect \u001b[38;5;129;01mand\u001b[39;00m response\u001b[38;5;241m.\u001b[39mget_redirect_location()\n\u001b[0;32m    379\u001b[0m \u001b[38;5;28;01mif\u001b[39;00m \u001b[38;5;129;01mnot\u001b[39;00m redirect_location:\n",
      "File \u001b[1;32me:\\adobe\\CDE\\Jupiter\\Lib\\site-packages\\urllib3\\connectionpool.py:716\u001b[0m, in \u001b[0;36mHTTPConnectionPool.urlopen\u001b[1;34m(self, method, url, body, headers, retries, redirect, assert_same_host, timeout, pool_timeout, release_conn, chunked, body_pos, **response_kw)\u001b[0m\n\u001b[0;32m    713\u001b[0m     \u001b[38;5;28mself\u001b[39m\u001b[38;5;241m.\u001b[39m_prepare_proxy(conn)\n\u001b[0;32m    715\u001b[0m \u001b[38;5;66;03m# Make the request on the httplib connection object.\u001b[39;00m\n\u001b[1;32m--> 716\u001b[0m httplib_response \u001b[38;5;241m=\u001b[39m \u001b[38;5;28mself\u001b[39m\u001b[38;5;241m.\u001b[39m_make_request(\n\u001b[0;32m    717\u001b[0m     conn,\n\u001b[0;32m    718\u001b[0m     method,\n\u001b[0;32m    719\u001b[0m     url,\n\u001b[0;32m    720\u001b[0m     timeout\u001b[38;5;241m=\u001b[39mtimeout_obj,\n\u001b[0;32m    721\u001b[0m     body\u001b[38;5;241m=\u001b[39mbody,\n\u001b[0;32m    722\u001b[0m     headers\u001b[38;5;241m=\u001b[39mheaders,\n\u001b[0;32m    723\u001b[0m     chunked\u001b[38;5;241m=\u001b[39mchunked,\n\u001b[0;32m    724\u001b[0m )\n\u001b[0;32m    726\u001b[0m \u001b[38;5;66;03m# If we're going to release the connection in ``finally:``, then\u001b[39;00m\n\u001b[0;32m    727\u001b[0m \u001b[38;5;66;03m# the response doesn't need to know about the connection. Otherwise\u001b[39;00m\n\u001b[0;32m    728\u001b[0m \u001b[38;5;66;03m# it will also try to release it and we'll have a double-release\u001b[39;00m\n\u001b[0;32m    729\u001b[0m \u001b[38;5;66;03m# mess.\u001b[39;00m\n\u001b[0;32m    730\u001b[0m response_conn \u001b[38;5;241m=\u001b[39m conn \u001b[38;5;28;01mif\u001b[39;00m \u001b[38;5;129;01mnot\u001b[39;00m release_conn \u001b[38;5;28;01melse\u001b[39;00m \u001b[38;5;28;01mNone\u001b[39;00m\n",
      "File \u001b[1;32me:\\adobe\\CDE\\Jupiter\\Lib\\site-packages\\urllib3\\connectionpool.py:468\u001b[0m, in \u001b[0;36mHTTPConnectionPool._make_request\u001b[1;34m(self, conn, method, url, timeout, chunked, **httplib_request_kw)\u001b[0m\n\u001b[0;32m    463\u001b[0m             httplib_response \u001b[38;5;241m=\u001b[39m conn\u001b[38;5;241m.\u001b[39mgetresponse()\n\u001b[0;32m    464\u001b[0m         \u001b[38;5;28;01mexcept\u001b[39;00m \u001b[38;5;167;01mBaseException\u001b[39;00m \u001b[38;5;28;01mas\u001b[39;00m e:\n\u001b[0;32m    465\u001b[0m             \u001b[38;5;66;03m# Remove the TypeError from the exception chain in\u001b[39;00m\n\u001b[0;32m    466\u001b[0m             \u001b[38;5;66;03m# Python 3 (including for exceptions like SystemExit).\u001b[39;00m\n\u001b[0;32m    467\u001b[0m             \u001b[38;5;66;03m# Otherwise it looks like a bug in the code.\u001b[39;00m\n\u001b[1;32m--> 468\u001b[0m             six\u001b[38;5;241m.\u001b[39mraise_from(e, \u001b[38;5;28;01mNone\u001b[39;00m)\n\u001b[0;32m    469\u001b[0m \u001b[38;5;28;01mexcept\u001b[39;00m (SocketTimeout, BaseSSLError, SocketError) \u001b[38;5;28;01mas\u001b[39;00m e:\n\u001b[0;32m    470\u001b[0m     \u001b[38;5;28mself\u001b[39m\u001b[38;5;241m.\u001b[39m_raise_timeout(err\u001b[38;5;241m=\u001b[39me, url\u001b[38;5;241m=\u001b[39murl, timeout_value\u001b[38;5;241m=\u001b[39mread_timeout)\n",
      "File \u001b[1;32m<string>:3\u001b[0m, in \u001b[0;36mraise_from\u001b[1;34m(value, from_value)\u001b[0m\n",
      "File \u001b[1;32me:\\adobe\\CDE\\Jupiter\\Lib\\site-packages\\urllib3\\connectionpool.py:463\u001b[0m, in \u001b[0;36mHTTPConnectionPool._make_request\u001b[1;34m(self, conn, method, url, timeout, chunked, **httplib_request_kw)\u001b[0m\n\u001b[0;32m    460\u001b[0m \u001b[38;5;28;01mexcept\u001b[39;00m \u001b[38;5;167;01mTypeError\u001b[39;00m:\n\u001b[0;32m    461\u001b[0m     \u001b[38;5;66;03m# Python 3\u001b[39;00m\n\u001b[0;32m    462\u001b[0m     \u001b[38;5;28;01mtry\u001b[39;00m:\n\u001b[1;32m--> 463\u001b[0m         httplib_response \u001b[38;5;241m=\u001b[39m conn\u001b[38;5;241m.\u001b[39mgetresponse()\n\u001b[0;32m    464\u001b[0m     \u001b[38;5;28;01mexcept\u001b[39;00m \u001b[38;5;167;01mBaseException\u001b[39;00m \u001b[38;5;28;01mas\u001b[39;00m e:\n\u001b[0;32m    465\u001b[0m         \u001b[38;5;66;03m# Remove the TypeError from the exception chain in\u001b[39;00m\n\u001b[0;32m    466\u001b[0m         \u001b[38;5;66;03m# Python 3 (including for exceptions like SystemExit).\u001b[39;00m\n\u001b[0;32m    467\u001b[0m         \u001b[38;5;66;03m# Otherwise it looks like a bug in the code.\u001b[39;00m\n\u001b[0;32m    468\u001b[0m         six\u001b[38;5;241m.\u001b[39mraise_from(e, \u001b[38;5;28;01mNone\u001b[39;00m)\n",
      "File \u001b[1;32me:\\adobe\\CDE\\Jupiter\\Lib\\http\\client.py:1428\u001b[0m, in \u001b[0;36mHTTPConnection.getresponse\u001b[1;34m(self)\u001b[0m\n\u001b[0;32m   1426\u001b[0m \u001b[38;5;28;01mtry\u001b[39;00m:\n\u001b[0;32m   1427\u001b[0m     \u001b[38;5;28;01mtry\u001b[39;00m:\n\u001b[1;32m-> 1428\u001b[0m         response\u001b[38;5;241m.\u001b[39mbegin()\n\u001b[0;32m   1429\u001b[0m     \u001b[38;5;28;01mexcept\u001b[39;00m \u001b[38;5;167;01mConnectionError\u001b[39;00m:\n\u001b[0;32m   1430\u001b[0m         \u001b[38;5;28mself\u001b[39m\u001b[38;5;241m.\u001b[39mclose()\n",
      "File \u001b[1;32me:\\adobe\\CDE\\Jupiter\\Lib\\http\\client.py:331\u001b[0m, in \u001b[0;36mHTTPResponse.begin\u001b[1;34m(self)\u001b[0m\n\u001b[0;32m    329\u001b[0m \u001b[38;5;66;03m# read until we get a non-100 response\u001b[39;00m\n\u001b[0;32m    330\u001b[0m \u001b[38;5;28;01mwhile\u001b[39;00m \u001b[38;5;28;01mTrue\u001b[39;00m:\n\u001b[1;32m--> 331\u001b[0m     version, status, reason \u001b[38;5;241m=\u001b[39m \u001b[38;5;28mself\u001b[39m\u001b[38;5;241m.\u001b[39m_read_status()\n\u001b[0;32m    332\u001b[0m     \u001b[38;5;28;01mif\u001b[39;00m status \u001b[38;5;241m!=\u001b[39m CONTINUE:\n\u001b[0;32m    333\u001b[0m         \u001b[38;5;28;01mbreak\u001b[39;00m\n",
      "File \u001b[1;32me:\\adobe\\CDE\\Jupiter\\Lib\\http\\client.py:292\u001b[0m, in \u001b[0;36mHTTPResponse._read_status\u001b[1;34m(self)\u001b[0m\n\u001b[0;32m    291\u001b[0m \u001b[38;5;28;01mdef\u001b[39;00m \u001b[38;5;21m_read_status\u001b[39m(\u001b[38;5;28mself\u001b[39m):\n\u001b[1;32m--> 292\u001b[0m     line \u001b[38;5;241m=\u001b[39m \u001b[38;5;28mstr\u001b[39m(\u001b[38;5;28mself\u001b[39m\u001b[38;5;241m.\u001b[39mfp\u001b[38;5;241m.\u001b[39mreadline(_MAXLINE \u001b[38;5;241m+\u001b[39m \u001b[38;5;241m1\u001b[39m), \u001b[38;5;124m\"\u001b[39m\u001b[38;5;124miso-8859-1\u001b[39m\u001b[38;5;124m\"\u001b[39m)\n\u001b[0;32m    293\u001b[0m     \u001b[38;5;28;01mif\u001b[39;00m \u001b[38;5;28mlen\u001b[39m(line) \u001b[38;5;241m>\u001b[39m _MAXLINE:\n\u001b[0;32m    294\u001b[0m         \u001b[38;5;28;01mraise\u001b[39;00m LineTooLong(\u001b[38;5;124m\"\u001b[39m\u001b[38;5;124mstatus line\u001b[39m\u001b[38;5;124m\"\u001b[39m)\n",
      "File \u001b[1;32me:\\adobe\\CDE\\Jupiter\\Lib\\socket.py:720\u001b[0m, in \u001b[0;36mSocketIO.readinto\u001b[1;34m(self, b)\u001b[0m\n\u001b[0;32m    718\u001b[0m \u001b[38;5;28;01mwhile\u001b[39;00m \u001b[38;5;28;01mTrue\u001b[39;00m:\n\u001b[0;32m    719\u001b[0m     \u001b[38;5;28;01mtry\u001b[39;00m:\n\u001b[1;32m--> 720\u001b[0m         \u001b[38;5;28;01mreturn\u001b[39;00m \u001b[38;5;28mself\u001b[39m\u001b[38;5;241m.\u001b[39m_sock\u001b[38;5;241m.\u001b[39mrecv_into(b)\n\u001b[0;32m    721\u001b[0m     \u001b[38;5;28;01mexcept\u001b[39;00m timeout:\n\u001b[0;32m    722\u001b[0m         \u001b[38;5;28mself\u001b[39m\u001b[38;5;241m.\u001b[39m_timeout_occurred \u001b[38;5;241m=\u001b[39m \u001b[38;5;28;01mTrue\u001b[39;00m\n",
      "\u001b[1;31mKeyboardInterrupt\u001b[0m: "
     ]
    }
   ],
   "source": [
    "# Get updated rows after loading\n",
    "rows = driver.find_elements(By.TAG_NAME, 'tr')\n",
    "\n",
    "# Collect all data\n",
    "all_data = []\n",
    "for row in rows:\n",
    "    table_data = row.find_elements(By.TAG_NAME, 'td')\n",
    "    if table_data:\n",
    "        row_text = [cell.text for cell in table_data]\n",
    "        all_data.append(row_text)"
   ]
  },
  {
   "cell_type": "code",
   "execution_count": null,
   "id": "5b798b0c",
   "metadata": {},
   "outputs": [
    {
     "name": "stdout",
     "output_type": "stream",
     "text": [
      "✅ Done! Scraped\n"
     ]
    }
   ],
   "source": [
    "# Save to CSV\n",
    "with open(\"Task_1.csv\", mode=\"w\", newline=\"\", encoding=\"utf-8\") as file:\n",
    "    writer = csv.writer(file)\n",
    "    writer.writerows(all_data)\n",
    "\n",
    "print(f\"✅ Done! Scraped\")"
   ]
  },
  {
   "cell_type": "code",
   "execution_count": null,
   "id": "0bfa4017",
   "metadata": {},
   "outputs": [],
   "source": []
  }
 ],
 "metadata": {
  "kernelspec": {
   "display_name": "base",
   "language": "python",
   "name": "python3"
  },
  "language_info": {
   "codemirror_mode": {
    "name": "ipython",
    "version": 3
   },
   "file_extension": ".py",
   "mimetype": "text/x-python",
   "name": "python",
   "nbconvert_exporter": "python",
   "pygments_lexer": "ipython3",
   "version": "3.12.7"
  }
 },
 "nbformat": 4,
 "nbformat_minor": 5
}
